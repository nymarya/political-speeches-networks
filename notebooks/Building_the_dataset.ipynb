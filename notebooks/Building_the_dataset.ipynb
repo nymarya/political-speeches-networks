{
  "nbformat": 4,
  "nbformat_minor": 0,
  "metadata": {
    "colab": {
      "name": "Building the dataset.ipynb",
      "version": "0.3.2",
      "provenance": [],
      "toc_visible": true
    },
    "kernelspec": {
      "name": "python3",
      "display_name": "Python 3"
    }
  },
  "cells": [
    {
      "cell_type": "markdown",
      "metadata": {
        "id": "Fn7V7VEjNtSI",
        "colab_type": "text"
      },
      "source": [
        "We will use the [API](https://dadosabertos.camara.leg.br/swagger/api.html) in order to retrieve information about the deputies and theirs speechs. Then, we can merge them all into a single dataset."
      ]
    },
    {
      "cell_type": "code",
      "metadata": {
        "id": "Jf0z8cIUMs0q",
        "colab_type": "code",
        "colab": {}
      },
      "source": [
        "import requests\n",
        "import pandas as pd\n",
        "\n",
        "import sys"
      ],
      "execution_count": 0,
      "outputs": []
    },
    {
      "cell_type": "markdown",
      "metadata": {
        "id": "tA5ZuHxp4Ki0",
        "colab_type": "text"
      },
      "source": [
        "## Retrieving the speeches\n",
        "\n",
        "First, we must retrieve the id information about all the deputies"
      ]
    },
    {
      "cell_type": "code",
      "metadata": {
        "id": "wPt1__AR4dIB",
        "colab_type": "code",
        "outputId": "e3df805d-929f-4dc7-c2c2-7ddb9be97c6c",
        "colab": {
          "base_uri": "https://localhost:8080/",
          "height": 425
        }
      },
      "source": [
        "response = requests.get('https://dadosabertos.camara.leg.br/api/v2/deputados/')\n",
        "\n",
        "json_data = response.json()\n",
        "\n",
        "# Print out the first 3 deputies\n",
        "json_data['dados'][:3]"
      ],
      "execution_count": 2,
      "outputs": [
        {
          "output_type": "execute_result",
          "data": {
            "text/plain": [
              "[{'id': 204554,\n",
              "  'idLegislatura': 56,\n",
              "  'nome': 'ABÍLIO SANTANA',\n",
              "  'siglaPartido': 'PL',\n",
              "  'siglaUf': 'BA',\n",
              "  'uri': 'https://dadosabertos.camara.leg.br/api/v2/deputados/204554',\n",
              "  'uriPartido': 'https://dadosabertos.camara.leg.br/api/v2/partidos/37906',\n",
              "  'urlFoto': 'https://www.camara.leg.br/internet/deputado/bandep/204554.jpg'},\n",
              " {'id': 204521,\n",
              "  'idLegislatura': 56,\n",
              "  'nome': 'ABOU ANNI',\n",
              "  'siglaPartido': 'PSL',\n",
              "  'siglaUf': 'SP',\n",
              "  'uri': 'https://dadosabertos.camara.leg.br/api/v2/deputados/204521',\n",
              "  'uriPartido': 'https://dadosabertos.camara.leg.br/api/v2/partidos/36837',\n",
              "  'urlFoto': 'https://www.camara.leg.br/internet/deputado/bandep/204521.jpg'},\n",
              " {'id': 204379,\n",
              "  'idLegislatura': 56,\n",
              "  'nome': 'ACÁCIO FAVACHO',\n",
              "  'siglaPartido': 'PROS',\n",
              "  'siglaUf': 'AP',\n",
              "  'uri': 'https://dadosabertos.camara.leg.br/api/v2/deputados/204379',\n",
              "  'uriPartido': 'https://dadosabertos.camara.leg.br/api/v2/partidos/36763',\n",
              "  'urlFoto': 'https://www.camara.leg.br/internet/deputado/bandep/204379.jpg'}]"
            ]
          },
          "metadata": {
            "tags": []
          },
          "execution_count": 2
        }
      ]
    },
    {
      "cell_type": "code",
      "metadata": {
        "id": "oLUIrZvb6OJo",
        "colab_type": "code",
        "colab": {}
      },
      "source": [
        "deputies = []\n",
        "\n",
        "for data in json_data['dados']:\n",
        "  deputies.append([data['id'], data['siglaPartido'], data['siglaUf']])"
      ],
      "execution_count": 0,
      "outputs": []
    },
    {
      "cell_type": "markdown",
      "metadata": {
        "id": "qxy6tNuf6eZg",
        "colab_type": "text"
      },
      "source": [
        "---\n",
        "Now that we have the ids from each deputy, we can make a query that returns all speeches given between 1st January and 30 June this year (2019)."
      ]
    },
    {
      "cell_type": "code",
      "metadata": {
        "id": "NwncJzU-6dxA",
        "colab_type": "code",
        "outputId": "1a43243b-8a03-45fc-f72b-aed2734cfceb",
        "colab": {
          "base_uri": "https://localhost:8080/",
          "height": 34
        }
      },
      "source": [
        "speeches = []\n",
        "\n",
        "total = len(deputies)\n",
        "# Create a dictionary that contains\n",
        "# id : speech1, speech2\n",
        "for i, dep in enumerate(deputies):\n",
        "  sys.stdout.write(\"\\rGetting %i of %i\" % (i, total))\n",
        "  sys.stdout.flush()\n",
        "  \n",
        "  # Get all speechs given by the current deputy\n",
        "  query = 'https://dadosabertos.camara.leg.br/api/v2/deputados/'+str(dep[0])+\\\n",
        "          '/discursos?dataInicio=2019-01-01&dataFim=2019-06-11&ordenarPor=dataHoraInicio&ordem=ASC'\n",
        "  response = requests.get(query)\n",
        "  speech_json = response.json()\n",
        "  \n",
        "  # Add each speech to the list\n",
        "  speeches += [[ dep[0], speech['transcricao'], dep[1], dep[2] ] for speech in speech_json['dados']]\n",
        "  \n",
        "sys.stdout.write(\"\\rExtraction complete! %i speeches retrieved.\" % len(speeches))"
      ],
      "execution_count": 4,
      "outputs": [
        {
          "output_type": "stream",
          "text": [
            "Extraction complete! 3938 speeches retrieved."
          ],
          "name": "stdout"
        }
      ]
    },
    {
      "cell_type": "code",
      "metadata": {
        "id": "W4U_9N6B_VOm",
        "colab_type": "code",
        "outputId": "9e1e7c64-516e-4b36-f823-1505e8052406",
        "colab": {
          "base_uri": "https://localhost:8080/",
          "height": 377
        }
      },
      "source": [
        "# Check out the first 5 rows\n",
        "speeches[:5]"
      ],
      "execution_count": 5,
      "outputs": [
        {
          "output_type": "execute_result",
          "data": {
            "text/plain": [
              "[[204554,\n",
              "  'O SR. ABÍLIO SANTANA (PHS - BA. Pela ordem. Sem revisão do orador.) - Sr. Presidente, douta Mesa, senhoras e senhores, trago uma saudação de paz.\\r\\nEu sou oriundo da Bahia, o quarto Estado brasileiro em população e o sexto maior Estado, geograficamente falando, do nosso querido Brasil. Eu tenho o privilégio de proferir com muita segurança que nasci no Estado onde tudo começou, onde as caravelas ancoraram, onde Cabral bradou: \"Terra à vista!\" \\r\\nDos 417 Municípios do meu querido Estado da Bahia, 410 acreditaram em mim e me agraciaram com seus votos. Quando me enviaram para Brasília, Capital da nossa Nação, fizeram-no acreditando no que eu proferi durante a campanha: eu serei radicalmente contra todos os que se levantarem contra a ética e a família tradicional. Levantar-me-ei contra quem é a favor da chamada ideologia de gênero, que, pela minha ótica, até que me provem o contrário, tem sido uma catástrofe para nossa querida Nação.\\r\\nAgradeço ao Deus dos céus por ter me agraciado ao me enviar como um dos representantes da minha querida Bahia e muito especialmente como um dos representantes do povo evangélico, até porque eu profiro a fé num único Deus.',\n",
              "  'PL',\n",
              "  'BA'],\n",
              " [204554,\n",
              "  'O SR. ABÍLIO SANTANA (PHS - BA. Pela ordem. Sem revisão do orador.) - Sr. Presidente, douta Mesa, senhoras e senhores, trago uma saudação de paz.\\r\\nEu sou oriundo da Bahia, o quarto Estado brasileiro em população e o sexto maior Estado, geograficamente falando, do nosso querido Brasil. Eu tenho o privilégio de proferir com muita segurança que nasci no Estado onde tudo começou, onde as caravelas ancoraram, onde Cabral bradou: \"Terra à vista!\" \\r\\nDos 417 Municípios do meu querido Estado da Bahia, 410 acreditaram em mim e me agraciaram com seus votos. Quando me enviaram para Brasília, Capital da nossa Nação, fizeram-no acreditando no que eu proferi durante a campanha: eu serei radicalmente contra todos os que se levantarem contra a ética e a família tradicional. Levantar-me-ei contra quem é a favor da chamada ideologia de gênero, que, pela minha ótica, até que me provem o contrário, tem sido uma catástrofe para nossa querida Nação.\\r\\nAgradeço ao Deus dos céus por ter me agraciado ao me enviar como um dos representantes da minha querida Bahia e muito especialmente como um dos representantes do povo evangélico, até porque eu profiro a fé num único Deus.',\n",
              "  'PL',\n",
              "  'BA'],\n",
              " [204521,\n",
              "  'O SR. ABOU ANNI (PSL - SP. Sem revisão do orador.) - Obrigado, Sr. Presidente.\\r\\nNesta oportunidade, cumprimento a todos os Deputados e a todas as Deputadas aqui no plenário.\\r\\nSr. Presidente, inicialmente solicito a V.Exa. que autorize a inclusão do meu pronunciamento no programa A Voz do Brasil e nos outros meios de comunicação desta Casa.\\r\\nSr. Presidente, neste momento, eu trago a voz de milhares ou de milhões de condutores de transporte coletivo no Brasil que têm o sentimento de que seus bolsos são onerados constantemente por legislações que muitas vezes não têm fundamento na sua aplicação. Vou elencar algumas legislações, algumas leis, algumas regras de trânsito, para que este Plenário amplie a discussão do assunto, e juntos façamos as mudanças necessárias no Código de Trânsito Brasileiro, para desburocratizá-lo, para deixar mais eficiente a aplicação das regras nele contidas.\\r\\nPara falar em desburocratização da lei, Sr. Presidente, eu inicio citando o art. 136 do CTB, que determina vistoria semestral de todos os veículos escolares. Quer dizer, os veículos escolares passam por duas vistorias no ano, uma a cada 6 meses.\\r\\nMas o art. 139 da mesma lei, a Lei 9.503, de 1997, Código de Trânsito Brasileiro - CTB, diz que a prefeitura também legisla sobre essa matéria. É lógico, pois se trata de interesse local e cabe à prefeitura legislar. Muitas cidades no Estado de São Paulo trazem a previsão de mais duas vistorias. Consequentemente, os nossos condutores de escolares fazem quatro vistorias ao ano. Além disso, há a vistoria para o laudo do tacógrafo, há a vistoria quando se faz a mudança do combustível do veículo de álcool ou gasolina para gás. Já estamos falando em seis vistorias.\\r\\nO CONTRAN - Conselho Nacional de Trânsito legisla, através de resoluções, e cria a inspeção ambiental: os veículos zero quilômetro vão ser inspecionados a cada 3 anos, a partir do terceiro ano; o veículo usado, de 2 anos em 2 anos; e o escolar, de 6 meses em 6 meses.\\r\\nVamos fazer a conta: o transporte de escolares já chegou à oitava vistoria ao ano. Tudo isso é pago! Toda vistoria tem taxas. Essas burocracias são desnecessárias.\\r\\nEu posso elencar mais uma burocracia: o art. 138, inciso IV, do CTB, também referente ao condutor de escolares.\\r\\nArt. 138. O condutor de veículo destinado à condução de escolares deve satisfazer os seguintes requisitos:\\r\\n(...)\\r\\nIV - não ter cometido nenhuma infração grave ou gravíssima, ou ser reincidente em infrações médias durante os doze últimos meses;\\r\\nO condutor opera o transporte há 10 anos, 15 anos, possui contrato firmado com o pai ou com a mãe dos alunos, entretanto, se um dia ele se esquece de colocar aquele cartão de estacionamento da zona azul, comete uma infração grave e vai ficar sem poder dirigir por 1 ano. Com uma única multa, o condutor fica 1 ano sem poder dirigir. As prefeituras do Estado de São Paulo estão aplicando a regra. Quando o condutor questiona, a prefeitura diz: \"Fale com Brasília! Foi o Congresso que legislou. Eu estou aqui para cumprir a lei\".\\r\\nPortanto, nós temos que desburocratizar.\\r\\nConcedo um aparte ao Deputado.\\r\\nO Sr. José Medeiros - Essa sua fala é muito importante, Deputado. Aqui no Brasil, o que mais temos é taxa e legislação infralegal. Que legislação é essa? São portarias, resoluções, etc., ou seja, matérias que não passaram por aqui. Vou dar outro exemplo: em Mato Grosso, como as distâncias são grandes, é muito comum se fazer o transporte de vacas e bois em carretas. Antigamente, essas carretas podiam ter até uma certa altura - era mais ou menos a altura das cegonhas, que carregam veículos. Agora surgiu uma nova legislação que não permite mais isso, permite só uma certa altura. Então, nós temos caminhões com a mesma altura: uns podem rodar; outros, não. Quando a polícia para esse veículo, o motorista só pode retirá-lo depois se serrar a carroceria. Nós precisamos rever isso. V.Exa. mencionou a taxa cobrada quando se coloca um sensor de ré nos veículos articulados. Aquilo é uma coisa simples, mas a fiscalização entende que é algo que muda a característica do veículo.\\r\\nÉ uma burocracia infernal! Custa quase 2 mil reais. Numa frota de mil veículos, isso onera muito. Isso significa desemprego. Então, eu queria parabenizar V.Exa. Eu me somo a V.Exa. na intenção de ir conversar com o Ministro, ou com o Presidente do CONTRAN, enfim, com quem de direito, a fim de harmonizar esse entendimento e acabar com essa burocracia que só encarece os custos do brasileiro.\\r\\nO SR. ABOU ANNI (PSL - SP) - Eu agradeço ao Deputado José Medeiros o pronunciamento e ressalto a importância da sua fala, que vai ao encontro do que eu estou comentando nesta tribuna. Criam-se taxas, regras e oneram o bolso dos condutores.\\r\\nConcedo um aparte ao Deputado Giovani Cherini.\\r\\nO Sr. Giovani Cherini - Deputado Abou Anni, eu aproveito a oportunidade para me somar à sua fala. Muitas vezes, eu sou muito crítico nesta Casa, porque muitas vezes nós não legislamos - quem legisla é o CONTRAN, é o Conselho do Meio Ambiente, etc. Em todas as áreas, há alguém legislando, inclusive o próprio STF. Nós precisamos exercer o nosso papel. Esta Casa precisa fazer uma lei que exija que toda resolução ou portaria tenha pelo menos o aval da Comissão de Constituição e Justiça e de Cidadania. Por exemplo, eu estou tentando acabar com a resolução do CONTRAN que trata da exigência da placa no padrão do MERCOSUL. De onde surgiu essa placa? Quem foi o inventor desse negócio? Simplesmente onera o cidadão, tira o nome do Município e diz que vai ter que haver um chip agora, que vai ter que pagar, por mês, um chip que vai ser usado na placa do carro. Além do seguro e outras despesas, inventaram mais isso agora. Se, na semana que vem, votarmos isso aqui, eu quero o apoio dos colegas para sustarmos essa resolução do CONTRAN que criou a nova placa no padrão MERCOSUL. E outra coisa: há muita gente aqui que nem acredita mais no MERCOSUL. Mas criaram a placa no padrão MERCOSUL. É número, depois letra, número, depois é letra de novo. E há letras que são confundidas com número, por exemplo, o \"O\" com o zero. É uma confusão aquela placa. Eu já fui dono de van. Uma vez eu queria ter uma renda e fui dono de van. Gastam-se 5 mil reais para se ter uma van no Brasil, para deixá-la parada na garagem. Então, o que acontece? Vem um pessoal que não regulariza para poder ganhar um troquinho, porque é tanta parafernália e tanta exigência... E tudo é por resolução, por portaria. Então, parabéns, Deputado! Vamos nos ajudar aqui para mudar isso.\\r\\nO SR. ABOU ANNI (PSL - SP) - Obrigado, Deputado Giovani Cherini. Comungo com as suas palavras no sentido de que a resolução que cria a placa no padrão MERCOSUL tem que ser discutida nesta Casa, não dentro de quatro portas, no CONTRAN, como aconteceu, penalizando o Brasil inteiro, todos os profissionais de transporte, todos os condutores ao obrigar que troquem a sua placa. \\r\\nIsso não vai ficar barato. Nós falamos que uma placa custa aproximadamente 250 reais. Mas não é só a placa. Há a emissão do documento, que tem outro custo, mais a transferência, que, quando for necessária, têm outro custo. Então, é só taxa. Toda a burocracia é para onerar no bolso dos condutores.\\r\\nE como se não bastasse o que eu falei do transporte escolar, só para complementar, quero falar da suspensão da CNH, a pena mínima para quem atinge 20 pontos. E é a coisa mais simples do mundo atingir 20 pontos: ultrapasse três semáforos vermelhos. Muitas vezes isso ocorre por descuido. Em São Paulo, é muito comum o condutor avançar o sinal no amarelo e ser multado como se tivesse avançado o sinal no vermelho.\\r\\nNós temos transporte coletivo urbano na cidade de São Paulo de 27 metros - 27 metros! Se o condutor avança o sinal no amarelo, a traseira vai passar no vermelho, então ele é autuado. Quer dizer que esse condutor, esse profissional do transporte, que atingiu esses 20 pontos, vai ficar hoje no mínimo 6 messes sem poder trabalhar, não vou nem dizer dirigir, vai ficar sem poder trabalhar. Essa regra aplica-se a qualquer condutor.\\r\\nEntão, tínhamos que rediscutir a penalidade. É uma penalidade máxima ao extremo. Não podemos matar os nossos condutores através das legislações. Isso fere de morte a profissão de um condutor.\\r\\nE olha o que aconteceu na nova CLT. Se não me engano, as regras da CLT foram alteradas em 2017 por esta Casa. E tenho certeza que isto passou desapercebido por muitos Parlamentares: o condutor que tiver sua CNH suspensa vai ser dispensado por justa causa. CNH suspensa é motivo de justa causa! O profissional do transporte, que trabalha há 20 anos numa empresa, que faz hora extra, trabalha 10 horas, 12 horas por dia, que comete infrações ou sofre penalidades de multa em razão da atividade profissional, que atingiu os 20 pontos, o patrão dele vai chegar e lhe dizer: \"Você nem tem direito às suas contas. É demissão sumária! É justa causa! Rua!\" Está previsto na CLT.\\r\\nMuitas coisas temos que trazer a esta Casa para rediscutir. Posso estar equivocado, mas me convençam de que estou errado. Preciso que me convençam de que o condutor, o profissional do transporte, vai ter uma justa causa, porque atingiu 20 pontos, senhoras e senhores.\\r\\nTemos que trazer a discussão de volta a esta Casa.\\r\\nE há mais uma questão que me preocupa muito. Neste momento vem sendo discutido o ensino a distância no processo de formação dos nossos condutores.\\r\\nNão tenho dúvida de que temos de desburocratizar o processo de habilitação, de que nós temos que abaixar o custo da CNH, da permissão para dirigir, mas com muito cuidado e muita responsabilidade. No art. 76 do código está prevista a educação de trânsito desde a pré-escola até a faculdade. Está na lei: ações do DENATRAN com o MEC vão organizar tudo isso. Só que se passaram 23 anos, e ninguém fez nada. As pessoas continuam morrendo nas ruas, nas rodovias, nas vias públicas, os pedestres. Nós não atingimos uma maturidade, uma cultura para dirigir em via pública.\\r\\nO meu Estado de São Paulo tem uma frota de quase 8 milhões de veículos - não é a cidade de São Paulo, é o Estado. Repito: são 8 milhões de veículos. Foram arrecadados 2 bilhões de reais em 2018 em multa de trânsito. Não tenho dúvida de que não cumpriram o art. 320 do código que diz que toda a receita arrecadada com a cobrança de multas de trânsito será aplicada exclusivamente, dinheiro carimbado, em sinalização viária, educação de trânsito, fiscalização, engenharia de tráfego e campo, educação de trânsito. Até agora nada! Os Municípios não tomam atitude.\\r\\nE mais: o CONTRAN e o DENATRAN não regulamentam essa obrigatoriedade nas escolas. Agora, querem tirar aquele curso de 45 horas teóricas, que é aquele único momento, a única oportunidade em que o aluno vai conviver com aquela disciplina. Não se trata de uma mudança de cultura, porque isso é obrigação das escolas. A autoescola ou o CFC - Curso de Formação de Condutores vai passar informação àquele condutor. E eles querem tirar, acabar com isso, deixar a distância, para que muitos empresários que estão de olho, empresários do sistema EAD, das plataformas digitais, apliquem esses cursos.\\r\\nHoje em São Paulo é permitido que o condutor que tem a CNH suspensa faça esse curso de reciclagem a distância. Há um conhecido nosso que paga a uma empresa de tecnologia 16 mil reais por semana só para usar a plataforma. Repito: uma autoescola paga 16 mil reais por semana. Eu me coloco à disposição de todos os Deputados e de todas as Deputadas para mostrar os boletos, as faturas que estão comigo. Posso mostrar agora, porque estão no meu celular. Ele mandou foto para mim. Ele paga 16 mil reais por semana. Uma autoescola em São Paulo paga em média, para apenas um curso, 60 mil reais por mês.\\r\\nE agora o que a empresa quer? Eles estão querendo discutir o sistema de cursos a distância, no sistema de aprendizagem da primeira habilitação, na formação. Eu acredito que ninguém procuraria um profissional de medicina que foi formado em EAD para fazer uma cirurgia. Eu tenho certeza de que jamais poderíamos admitir alguma questão que se utilize, ou melhor, que cuide de vidas em curso a distância. O condutor mexe com vidas. Está aí o nosso número: 50 mil mortos.\\r\\nVamos implantar o EAD, vamos acabar com a educação de trânsito, o pouquíssimo que existe. Eu quero saber quem vai se responsabilizar se isso der errado, se o índice de mortos, que já é alto, continuar aumentando.\\r\\nTemos que mudar a cultura dos nossos condutores, e o caminho é educação séria e de qualidade. Escolas investiram, profissionais se qualificaram, há muitos profissionais com pós-graduação em trânsito tentando difundir essa disciplina. Agora eles querem deixar simplesmente EAD, a distância. Teremos só pilotos em via pública, muitas vezes dirigindo de forma irresponsável.\\r\\nEntão, eu peço neste momento ao CONTRAN: calma! CONTRAN, aguarde, porque ele já discute. Temos que trazer essa discussão para a Casa. Eu posso estar enganado, posso estar equivocado, mas temos que trazer a discussão para o Parlamento, porque o CONTRAN legisla de forma muitas vezes irresponsável.\\r\\nDe tudo que eu falo eu posso dar exemplo. Está aqui nas minhas mãos a Resolução nº 685. Eu vou lê-la para todos os Deputados e Deputadas.\\r\\nO art. 143 do Código de Trânsito Brasileiro estabelece as categorias nas quais podemos nos habilitar: A, B, C, D e E. E existe uma hierarquia, uma prevalência entre as categorias.\\r\\nAcho que todos os Deputados e Deputadas sabem do que eu estou falando. Quem é habilitado na categoria D pode dirigir veículo da categoria C, não é isso? Quem é habilitado na categoria E pode dirigir veículos da D e da C, não é isso?\\r\\nO CONTRAN, através da Resolução nº 685, de 2017, tirou a prevalência. Olha o que diz o art. 2º: \"I - categoria \"D\": para conduzir veículos de transporte de carga com peso bruto total excedendo a 3.500kg deverão comprovar que estão habilitados na categoria \"C\";\".\\r\\nEntão, para um condutor da categoria D dirigir um veículo acima de 3.500 quilos, um caminhão, ele tem que ter passado pela C.\\r\\nVamos entender. Como se habilitam os nossos condutores hoje no Brasil? Se habilitam na categoria B; ficam 2 anos nessa categoria; e pulam para a categoria D.\\r\\nMas, Deputado General Peternelli, imaginemos que V.Exa. não passou pela categoria C. O senhor tem uma habilitação na D e não pode mais dirigir caminhão. Então, parou-se o Brasil, pois 95% dos caminhoneiros estão habilitados na categoria D e não passaram pela categoria C. Estavam na B e, após 2 anos, pularam para a D.\\r\\nVou ler novamente o art. 2º: \"I - categoria \"D\": para conduzir veículos de transporte de carga com peso bruto total excedendo a 3.500kg deverão comprovar que estão habilitados na categoria \"C\";\".\\r\\nSe ele não passou pela C, se ele não comprova, há penalidade: \"Parágrafo único - A inobservância do disposto neste artigo implicará nas sanções previstas no art. 162, inciso III, do CTB.\"\\r\\nO art. 162, inciso III, diz que quem dirigir veículo de categoria diferente da do veículo que esteja conduzindo cometerá infração gravíssima, duas vezes. A multa é de 587 reais, e ainda há a retenção do veículo, que só vai ser liberado para um outro condutor habilitado. Onde esse caminhoneiro vai arrumar um condutor habilitado na categoria C?\\r\\nAqui estão as ações do CONTRAN. No ano passado, publicaram a Resolução nº 726, que obrigava todos nós a fazermos uma reciclagem a distância. Será que não era para engordar os 16 mil reais lá? Podemos pensar de todas as formas. Quer dizer, queriam que todos os condutores fizessem curso a distância. É algo assim: \"Vai lá no computador, finja que fez o curso, que eu finjo que o ensinei\".\\r\\nPor que eu digo \"finge\"? Porque o sistema é burlado. Os computadores são lincados, são logados, e esses cursos são feitos de forma remota.\\r\\nHá casos - fiquei sabendo de relatos - em que o condutor foi fazer essa reciclagem e dormiu na frente do computador. E o computador fez a prova para ele enquanto ele dormia.\\r\\nO DETRAN convoca, o DETRAN intima, pune a escola e ela continua funcionando. Isso deixa muita margem a fraudes.\\r\\nEu volto a dizer: precisamos trazer essa questão do ensino a distância para ser discutida nesta Casa Legislativa, neste Parlamento. É o Legislativo que cria leis. O CONTRAN está legislando, está criando obrigações para o condutor fazer ou deixar de fazer algo.\\r\\nÉ esta Casa, é o Congresso que tem de legislar; não é o CONTRAN. O CONTRAN regulamenta as leis. Eles têm que se limitar a regulamentar o que esta Casa, o Senado e o Presidente da República decidem. Não é o Conselho Nacional de Trânsito que decide.\\r\\nPeço aos conselheiros do CONTRAN que tenham cuidado com nossos condutores, muito cuidado. Estarei vigilante na Comissão de Viação e Transportes. Estas discussões têm que passar pela CVT, pelo Plenário e demais Comissões pertinentes desta Casa.\\r\\nSr. Presidente, como ainda tenho 2 minutinhos, eu só queria encerrar esta discussão de desburocratizar o código e reduzir o valor da nossa CNH. Em vez de deixar este curso a distância, que não vai funcionar, está claro isso, nós podemos pensar em acabar com as aulas noturnas, porque não se agrega nada, no meu ponto de vista e no ponto de vista de todos os instrutores, com os quais já discutimos esse tema.\\r\\nPodemos reduzir a carga horária da aula prática - são 25 horas de aula prática. Para que tudo isso? Há condutores que precisam mais, mas há outros condutores que precisam menos. Podemos reduzi-la.\\r\\nPodemos reduzir a carga horária do processo de educação. Dá para compilar matérias, dá para absorver uma matéria na outra. Então, dá para reduzir de 45 horas para 30 horas Dá para mexer nisso.\\r\\nPodemos reduzir o período de marcação de um exame para outro, porque isso é regrado em resolução - o CONTRAN diz que são 15 dias. Então, dá para desburocratizar e diminuir o custo.\\r\\nConcedo um aparte ao Sr. Deputado General Peternelli.\\r\\nO Sr. General Peternelli - Parabéns, Deputado, pelo trabalho para reduzir o custo da carteira de motorista, permitindo à população brasileira um acesso mais fácil a ela. Hoje, com valores acima de 2 mil, está muito crítico. Parabéns, Deputado!\\r\\nO SR. ABOU ANNI (PSL - SP) - Agradeço o aparte, General Peternelli. Sei que V.Exa. também vem lutando nesta questão. Conversamos muito a esse respeito, continuamos conversando ainda. Temos que chegar a um consenso para que realmente nós deixemos os condutores sem aquele sentimento de estarem sendo agredidos financeiramente. Hoje este é o sentimento dos condutores: tudo o que criam é para tirar dinheiro da gente.\\r\\nObrigado, Sr. Presidente.\\r\\nObrigado a todos os Deputados e Deputadas.\\r\\nPresidente, peço que meu pronunciamento seja veiculado no programa A Voz do Brasil.',\n",
              "  'PSL',\n",
              "  'SP'],\n",
              " [204521,\n",
              "  'O SR. ABOU ANNI (PSL - SP. Sem revisão do orador.) - Obrigado, Sr. Presidente.\\r\\nQuero cumprimentar todos os Deputados e Deputadas desta Casa, os telespectadores da TV Câmara e todos que nos acompanham.\\r\\nInicialmente, quero agradecer ao Capitão Wagner, do PROS do Ceará, que acabou de se pronunciar questionando os radares, os medidores de velocidade, que são de vários tipos: fixo, móvel, portátil, retrátil. Esses radares têm toda uma regulamentação. O meu agradecimento ao Capitão Wagner é pelo seu apoio, em razão de ter assinado a criação de uma CPI que está prestes a ser apresentada a esta Casa para investigar a instalação desses equipamentos. Eu falo por São Paulo, cidade onde nasci há 52 anos, e tenho muito conhecimento em informações a respeito desse tipo de arrecadação de valores dos nossos condutores.\\r\\nA Resolução nº 396, de 2011, do Conselho Nacional de Trânsito, na sua justificativa quanto à necessidade da instalação do equipamento, dos medidores de velocidade, prevê que se trata da redução do índice de acidentes de trânsito e suas gravidades. Por isso, há todo um procedimento para se instalar um equipamento: analisar se, no local, existe a necessidade, fazer estudo técnico do local para a instalação desse equipamento - necessidade, índice de acidentes, índice de gravidade, de risco. Há todo um estudo técnico. Os relatórios devem ser preenchidos conforme a resolução.\\r\\nApós esse estudo técnico, e havendo a necessidade, esse radar tem que ser aferido a cada 12 meses. Além disso, a instalação, quando se trata de equipamento fixo, não pode estar em local escondido. E é muito comum, na cidade de São Paulo, vermos radares escondidos atrás de postes, no meio de árvores, dentro de túneis, atrás de viadutos. Mas a resolução proíbe. A partir do momento em que eu escondo o radar, ele perde a sua finalidade, não cumpre mais o seu papel de reduzir o índice de acidentes de trânsito.\\r\\nDetalhe, além de não poder estar escondido - fica meramente arrecadatório, criando armadilhas, arapucas para os nossos condutores -, esse radar, além de estar visível, repito, tem que estar sinalizado com placa R-19, aquela que regulamenta a velocidade da via, antecedida do aparelho: se for perímetro urbano, quando a velocidade for menor que 80 quilômetros, deve haver uma placa de 100 metros a 300 metros; se a velocidade, na via urbana, for maior que 80 quilômetros, deve haver uma placa de 400 metros a 500 metros; se for perímetro rodoviário e a velocidade for menor que 80 quilômetros, deve haver uma placa de 500 metros a mil metros; se a velocidade for superior a 80 quilômetros por hora, deve haver uma placa de mil a 2 mil metros.\\r\\nIsso quer dizer que nós temos circunstância e procedimentos para que sejam instalados esses radares de forma correta, com a finalidade realmente de reduzir o índice de acidentes no trânsito. E, a cada tempo, ele tem que ser avaliado se vem cumprindo o seu papel, se realmente vem reduzindo o número de acidentes, se cumpre a necessidade daquele local. Caso contrário, devem ser utilizados outros equipamentos para reduzir esse número de acidentes.\\r\\nO que estou querendo dizer aqui, Sr. Presidente, é que os radares que encontramos em muitos Municípios - muitos Municípios! -, e São Paulo não foge a essa regra, são utilizados para arrecadar dinheiro aos cofres públicos da cidade. E por que arrecadar dinheiro? Eu volto a dizer da minha cidade: São Paulo, Capital, arrecadou, em 2018, 2 bilhões de reais em multas de trânsito. Dois bilhões de reais em multa de trânsito!\\r\\nNão é só questão de valores, ainda lembramos que, consequentemente, existe a pontuação na Carteira Nacional de Habilitação dos condutores. Nós tivemos, no ano passado, 400 mil condutores com a CNH suspensa e 80 mil cassações de habilitação. Foi uma avalanche de penalidades.\\r\\nEu não estou aqui defendendo o condutor, dizendo que é santo. Realmente, nós somos infratores. Muitas vezes, avançamos sinal vermelho. Corremos o risco da infração. Mas não se pode esconder e se criarem armadilhas. Isso é o que todo mundo questiona. A população tem aquele sentimento da indústria da multa: vê o radar escondido que flagra um condutor, muitas vezes despercebido do excesso de velocidade, porque passou da velocidade da via de 80 quilômetros por hora para 88 quilômetros por hora e já foi multado. Muitas vezes, a velocidade é uma questão sensível. Mas você vai ser penalizado por isso. Quando se esconde, ao colocar o radar na descida, na curva ou atrás da árvore, fomenta-se a indústria da multa.\\r\\nEntão, este Deputado está apresentando a criação de uma CPI nesta Casa. Comecei a colher as assinaturas, que ainda são poucas, apenas 45. Precisamos apresentar 171 para que seja instalada a CPI. Mas eu vou dizer que, se conseguirmos, vai ser o desmonte dessa indústria da multa, porque muitos Municípios se utilizam desses meios para arrecadar e rechear os seus cofres.\\r\\nComo se não bastasse arrecadar o dinheiro das multas, eles não o aplicam na sua finalidade. Está no art. 320 do CTB que a receita arrecadada com a multa de trânsito será aplicada, exclusivamente, em sinalização, engenharia de tráfego, de campo, fiscalização e educação de trânsito. É dinheiro carimbado, porque a lei nos fala que a receita arrecadada será aplicada \"exclusivamente\". Mas nós sabemos que esse dinheiro não retorna à segurança do trânsito, não retorna à educação de trânsito.\\r\\nTivemos estatísticas de vários órgãos. Classificam-se ali aproximadamente de 40 mil a 50 mil mortos por ano, de 40 mil a 50 mil condutores, usuários das vias públicas, que morrem em razão de acidentes de trânsito. E nós não vemos o Município agindo, não vemos o Estado nem a União agindo. Temos que levar a sério essa questão, porque trânsito, como eu sempre digo, é uma questão de cidadania, de educação dos condutores.\\r\\nEntão precisamos de ter educação de trânsito.\\r\\nTambém é uma questão de saúde pública. De cada dez leitos, sete leitos são ocupados por pessoas vitimadas em acidente de trânsito. Acho que tem parar um pouquinho com esse vislumbre de só arrecadar e de esquecer da parte da segurança e da educação.\\r\\nTambém, Sr. Presidente, muitas vezes acompanhamos em algumas cidades, em algumas estradas e rodovias, o contrato da prestação de serviço da extração do equipamento do radar, do medidor de velocidade. Trata-se de um contrato maior do que o investimento na cidade, quer dizer, se investe mais no radar do que na própria pavimentação, na própria sinalização, na própria segurança do trânsito. Nós estamos cansados de ver vias esburacadas, sem sinalização, sinalização danificada, mas o radar está lá, sendo pago a uma empresa contratada, uma concessionária para operar o sistema de arrecadação de valores dos condutores. Então a nossa CPI, Sr. Presidente, vai ao encontro de investigar os radares que estão instalados no País e a forma como eles estão instalados. Este radar está sendo aferido a cada 12 meses? Cadê o laudo de aferição? O INMETRO cumpre o papel de aferir o radar ou não cumpre?\\r\\nEntão esta Casa tem que se debruçar em cima dessa questão também, porque se trata de segurança no trânsito e educação dos nossos condutores.\\r\\nConvido a todos os Deputados presentes neste plenário que quiserem fazer parte desse encaminhamento, está aqui nas minhas mãos a lista de assinaturas da CPI.\\r\\nOntem também, Sr. Presidente, recebemos a visita do Ministro de Infraestrutura, o Sr. Tarcísio Gomes. Ficamos por 6 horas debatendo na Comissão de Viação e Transporte assuntos muito relevantes: a questão de trânsito e transporte, alguns assuntos pacificados e outros que ainda são temerários. Os pacificados tiveram amplo recurso. Nós temos que reduzir o custo da habilitação. O custo da habilitação tem que ser reduzido. Hoje em média uma CNH no nosso País, dependendo do seu Estado, custa 1.700 reais aproximadamente.\\r\\nTemos que lembrar que esse custo inclui a prestação de serviço do CFC, da autoescola; inclui taxas do Estado, que não são baratas, e inclui empresas de tecnologia de informação - TI que se utilizam de plataformas digitais para movimentar uma burocracia, digo por São Paulo novamente. Um condutor que vai se habilitar na cidade de São Paulo faz inicialmente exame médico, psicotécnico e, para cada acesso a um exame desses, ele tem que entrar na plataforma digital, pagar uma taxa para a empresa e realizar o seu exame. Realizado o exame médico e psicotécnico, nova taxa; realizado esse exame, vai marcar o exame teórico, nova taxa; prático, nova taxa. Não tem jeito. Então, quer dizer, realmente é possível abaixar o custo da habilitação.\\r\\nVamos excluir essa burocracia. Os DETRANs dos Estados têm que ter a responsabilidade de reduzir o valor das taxas. Nós temos que repensar essa questão de aula noturna, que encarece o produto e não acrescenta em nada à formação dos nossos condutores. Você é obrigado a fazer aula noturna. A maioria das autoescolas burla o sistema, porque é perigoso demais. O aluno coloca o dedo lá, finge que teve aula noturna, a autoescola finge que deu aula noturna, e ele continua no processo de habilitação. Por quê? Porque as autoescolas são assaltadas, há casos de estupros, em São Paulo, em razão dessas aulas noturnas. Então, isso tem que ser repensado. Essas aulas noturnas elevam o custo da CNH e não trazem benefício nem qualificação nenhuma ao condutor. \\r\\nSimuladores. Os Centros de Formação de Condutores - CFCs pagam uma fortuna para ter esses simuladores, que, para a grande maioria dos alunos, não acrescentam em nada. Eles são meramente um treinamento virtual, o que não condiz com a realidade nas vias públicas. O uso desses simuladores têm que acabar, ou que pelo menos o seu uso se torne facultativo. O aluno que sentir segurança em iniciar o treinamento no simulador, vá lá; mas há alguns já dirigem. Há alunos que precisam de 25 horas de aula prática; há alunos que precisam de 5 horas de aulas práticas. Dá para reduzir a quantidade de aulas práticas, dá para reduzir a quantidade de aulas do curso teórico; que se otimizem as matérias, a mecânica com primeiros socorros. Enfim, dá para reduzir tudo isso.\\r\\nAgora, não dá para mexer é no ensino a distância, Sr. Presidente. Cogita-se. Há rumores junto ao DENATRAN que eles querem acabar com o ensino presencial. Aquele momento em que o instrutor tem que interagir com o aluno, aquele momento em que o instrutor troca experiências com o aluno de casos reais, dúvidas particulares, o que é comum acontecer em sala de aula. Agora, quando eu levo esse curso ao ensino a distância, virtual, vamos questionar valor econômico. Aí, sim, as empresas de tecnologia, que criam essas plataformas digitais estão de olhos grandes. Eles já desenvolvem o curso de reciclagem para infrator em São Paulo. \\r\\nEu mostrei esse documento para o Ministro ontem, e o disponibilizo aos Srs. Deputados. Uma empresa dessa - não vem ao caso citar o nome, o documento está aqui nas minhas mãos, eu mostro particularmente a quem interessar possa - vende o uso da plataforma a um CFC, para aquele curso que você faz a distância. Para acessar essa plataforma, entre 25 de fevereiro a 03 de março, por uma semana de uso, o CFC pagou 15 mil, 927 reais e 87 centavos, quer dizer, 16 mil reais por semana, paga um CFC por uma plataforma digital para disponibilizar o uso dessa plataforma para um aluno. Estamos falando de aproximadamente de 60 mil reais por mês. Esse é o valor que paga um CFC por uma plataforma digital.\\r\\nNão bastasse isso, eles querem todos os cursos - curso de transporte escolar, de coletivo, de emergência, de produtos perigosos - para esquecer a parte de educação e ficar só na parte de tecnologia, o ensino virtual, o ensino a distância. \\r\\nTambém estive observando uma matéria publicada na Internet, no Estadão, nesta quinta-feira, dia 4, intitulada \"Aposta do Governo para EAD, Univesp tem alta evasão e só forma 174 alunos\". De 3.300 alunos, formaram-se 174. Quer dizer que, além de o ensino a distância não vir cumprindo o seu papel, existe uma evasão, ou seja, existe o desinteresse da sociedade, dos alunos no curso virtual, e nós não podemos nos utilizar desse mecanismo para formar nossos condutores. Lidar com vida não é brincadeira e muito menos um teste. Não podemos fazer um teste e colocar vidas em risco. \\r\\nVolto a fazer um apelo ao Sr. Jerry Adriane Dias, Diretor do DENATRAN, estendendo-o ao Ministro de Infraestrutura, Tarcísio Gomes, e também ao Presidente da República, Jair Messias Bolsonaro: temos que desburocratizar o sistema de formação dos condutores, o acesso à permissão para dirigir, mas com muita responsabilidade. Temos que preparar, de fato, nossos condutores para dirigir os veículos em via pública, com custo reduzido. E dá para reduzir custo, não tenham dúvida. Mas mexer na educação no trânsito, que até hoje não foi implementada no nosso País, acabará por enterrá-la de vez. Por que eu digo enterrá-la de vez? Porque ela vem tentando sobreviver. \\r\\nA Lei nº 9.503, de 2017, em seu art. 76, diz que a educação para o trânsito será promovida na pré-escola e até o terceiro grau, até a faculdade, com ações coordenadas entre o MEC e o DENATRAN. Mas esperem um pouquinho. A lei é de 1997, e não conseguiram implementar a educação no trânsito nas escolas. Nós estamos em 2019, 20 anos depois, e agora pensam em excluir o pouco de educação no trânsito que nós temos nos CFCs. Não dá para admitir. A educação no trânsito será um retrocesso, e é temerário, volto a dizer, pois não sabemos o que poderá acontecer com tudo isso. Vidas podem estar em jogo. \\r\\nSr. Presidente, como eu tenho ainda 4 minutos, gostaria também de discutir o tema da suspensão da Carteira Nacional de Habilitação - CNH. A suspensão da CNH, até 2016, era de 1 a 12 meses ao condutor que atingisse 20 pontos no período de 12 meses.\\r\\nCom a mudança da regra, Lei nº 13.281, de 2016, que passou a vigorar em novembro de 2016, o condutor que atingir os 20 pontos não terá sua carteira suspensa por 1, 2, 3 meses, e, sim, no mínimo, 6 a 12 meses. Qualquer um de nós condutores que atingir 20 pontos no período de 12 meses, estaremos crucificados e ficaremos impossibilitados de dirigir, e até trabalhar, por, no mínimo, 6 meses. \\r\\nFico pensando nos condutores de transporte coletivo urbano, motorista de ônibus, de táxi, de transporte escolar, caminhoneiro, nos condutores de transporte individual de passageiros, enfim, todos os profissionais dessa área. Se você tiver 20 pontos no período de 12 meses, estará fadado a perder a sua profissão, porque estará desempregado. Seis meses, no mínimo, sem poder dirigir significa desemprego no nosso País. Não acho razoável 6 meses de suspensão.\\r\\nPor isso, faço uma aclamação a esta Casa para que voltemos a discutir esse tema. Não estou queremos que os condutores fiquem impunes. Eles têm que ser punidos na forma da lei, mas o rigor da lei não pode massacrá-los. Seis meses é rigor da lei. Se o condutor for reincidente, concordo perfeitamente, a sua pena é agravada, mas o condutor primário receber 6 meses de suspensão é muito excesso. Então, nós temos que discutir o Código de Trânsito Brasileiro. \\r\\nPosso citar também a questão do condutor escolar. Segundo o art. 138, inciso IV, do Código de Trânsito Brasileiro, o condutor de veículo destinado à condução de escolares que cometer apenas uma multa no período de 12 meses - Srs. Deputados, prestem atenção no que eu estou dizendo - fica impossibilitado de dirigir por um ano. Se ele esquecer de colocar um cartãozinho da Zona Azul ou coisa do gênero, ficará 1 ano sem poder dirigir veículo escolar. Isso é regra da legislação federal e tem que ser revista porque não tem cabimento. Volto a dizer, não é razoável. \\r\\nJá os veículos escolares são totalmente seguros. A cada 6 meses o veículo escolar passa por vistoria, prevista no CTB e aplicada pelo órgão executivo de trânsito do Estado. Os Municípios, com base no art. 139, também legislam sobre essa matéria. E, muitos Municípios em torno de São Paulo são feitas duas vistorias semestrais, que é do CTB, e mais duas vistorias municipais. No veículo escolar são feitas quatro vistorias. Havia inclusive resolução acrescentando mais duas vistorias ambientais, num total de seis vistorias no ano. Estão crucificando o trabalhador do transporte. Ele está sendo oprimido por uma legislação que deveria ser melhor avaliada.\\r\\nMuito obrigado, Sr. Presidente.',\n",
              "  'PSL',\n",
              "  'SP'],\n",
              " [204560,\n",
              "  'O SR. ADOLFO VIANA (Bloco/PSDB - BA. Sem revisão do orador.) - Sra. Presidente, Sras. e Srs. Deputados, peço a atenção e o apoio de todos para o Projeto de Lei nº 869, de 2019, de minha autoria, que dispõe sobre a criação do Fundo de Amparo às Viagens Esportivas.\\r\\nPropomos que toda a milha gerada com recursos da União seja encaminhada a esse fundo de amparo ao esporte amador. Isso fará com que os nossos atletas que disputam competições no território nacional e internacional tenham ajuda através do Fundo de Amparo às Viagens Esportivas.\\r\\nJulgo ser esse um projeto de grande relevância para o nosso País e, por isso, espero contar com o apoio de todos os colegas desta Casa. Tenho certeza de que, ao aprovarmos esse projeto, os nossos atletas amadores de todo o território nacional serão beneficiados e poderão disputar competições importantes.\\r\\nSra. Presidente, peço a V.Exa. que nosso pronunciamento seja incluído no programa A Voz do Brasil.',\n",
              "  'PSDB',\n",
              "  'BA']]"
            ]
          },
          "metadata": {
            "tags": []
          },
          "execution_count": 5
        }
      ]
    },
    {
      "cell_type": "markdown",
      "metadata": {
        "id": "6UDXvZMp4SUh",
        "colab_type": "text"
      },
      "source": [
        "## Create the dataset\n",
        "\n",
        "With the id, speech, party and state, we are able to create a dataframe containing all this information. Thus, we can in the future aggregate all speeches by speaker, party or state, and make some other processings."
      ]
    },
    {
      "cell_type": "code",
      "metadata": {
        "id": "Xi9ed7XU4Rig",
        "colab_type": "code",
        "colab": {}
      },
      "source": [
        "dataset = pd.DataFrame(speeches, columns=['id', 'speech', 'party', 'state'])"
      ],
      "execution_count": 0,
      "outputs": []
    },
    {
      "cell_type": "code",
      "metadata": {
        "id": "FbMYvN5Qt8ta",
        "colab_type": "code",
        "colab": {
          "base_uri": "https://localhost:8080/",
          "height": 34
        },
        "outputId": "a02fad9e-f4e6-4705-88d4-607d0e3b88be"
      },
      "source": [
        "size = dataset.shape[0]\n",
        "\n",
        "size"
      ],
      "execution_count": 54,
      "outputs": [
        {
          "output_type": "execute_result",
          "data": {
            "text/plain": [
              "3938"
            ]
          },
          "metadata": {
            "tags": []
          },
          "execution_count": 54
        }
      ]
    },
    {
      "cell_type": "markdown",
      "metadata": {
        "id": "YJ2557eiLOoz",
        "colab_type": "text"
      },
      "source": [
        "Now, let's take a look at the result"
      ]
    },
    {
      "cell_type": "code",
      "metadata": {
        "id": "h1Gev5wnK0n0",
        "colab_type": "code",
        "outputId": "efbb53ad-02a5-471e-ef52-a12ba854b883",
        "colab": {
          "base_uri": "https://localhost:8080/",
          "height": 204
        }
      },
      "source": [
        "dataset.head()"
      ],
      "execution_count": 55,
      "outputs": [
        {
          "output_type": "execute_result",
          "data": {
            "text/html": [
              "<div>\n",
              "<style scoped>\n",
              "    .dataframe tbody tr th:only-of-type {\n",
              "        vertical-align: middle;\n",
              "    }\n",
              "\n",
              "    .dataframe tbody tr th {\n",
              "        vertical-align: top;\n",
              "    }\n",
              "\n",
              "    .dataframe thead th {\n",
              "        text-align: right;\n",
              "    }\n",
              "</style>\n",
              "<table border=\"1\" class=\"dataframe\">\n",
              "  <thead>\n",
              "    <tr style=\"text-align: right;\">\n",
              "      <th></th>\n",
              "      <th>id</th>\n",
              "      <th>speech</th>\n",
              "      <th>party</th>\n",
              "      <th>state</th>\n",
              "    </tr>\n",
              "  </thead>\n",
              "  <tbody>\n",
              "    <tr>\n",
              "      <th>0</th>\n",
              "      <td>204554</td>\n",
              "      <td>O SR. ABÍLIO SANTANA (PHS - BA. Pela ordem. Se...</td>\n",
              "      <td>PL</td>\n",
              "      <td>BA</td>\n",
              "    </tr>\n",
              "    <tr>\n",
              "      <th>1</th>\n",
              "      <td>204554</td>\n",
              "      <td>O SR. ABÍLIO SANTANA (PHS - BA. Pela ordem. Se...</td>\n",
              "      <td>PL</td>\n",
              "      <td>BA</td>\n",
              "    </tr>\n",
              "    <tr>\n",
              "      <th>2</th>\n",
              "      <td>204521</td>\n",
              "      <td>O SR. ABOU ANNI (PSL - SP. Sem revisão do orad...</td>\n",
              "      <td>PSL</td>\n",
              "      <td>SP</td>\n",
              "    </tr>\n",
              "    <tr>\n",
              "      <th>3</th>\n",
              "      <td>204521</td>\n",
              "      <td>O SR. ABOU ANNI (PSL - SP. Sem revisão do orad...</td>\n",
              "      <td>PSL</td>\n",
              "      <td>SP</td>\n",
              "    </tr>\n",
              "    <tr>\n",
              "      <th>4</th>\n",
              "      <td>204560</td>\n",
              "      <td>O SR. ADOLFO VIANA (Bloco/PSDB - BA. Sem revis...</td>\n",
              "      <td>PSDB</td>\n",
              "      <td>BA</td>\n",
              "    </tr>\n",
              "  </tbody>\n",
              "</table>\n",
              "</div>"
            ],
            "text/plain": [
              "       id                                             speech party state\n",
              "0  204554  O SR. ABÍLIO SANTANA (PHS - BA. Pela ordem. Se...    PL    BA\n",
              "1  204554  O SR. ABÍLIO SANTANA (PHS - BA. Pela ordem. Se...    PL    BA\n",
              "2  204521  O SR. ABOU ANNI (PSL - SP. Sem revisão do orad...   PSL    SP\n",
              "3  204521  O SR. ABOU ANNI (PSL - SP. Sem revisão do orad...   PSL    SP\n",
              "4  204560  O SR. ADOLFO VIANA (Bloco/PSDB - BA. Sem revis...  PSDB    BA"
            ]
          },
          "metadata": {
            "tags": []
          },
          "execution_count": 55
        }
      ]
    },
    {
      "cell_type": "code",
      "metadata": {
        "id": "nPM8ZKm9LUwI",
        "colab_type": "code",
        "outputId": "c33fb78a-a5d9-4074-b673-456a77be5101",
        "colab": {
          "base_uri": "https://localhost:8080/",
          "height": 170
        }
      },
      "source": [
        "dataset.info()"
      ],
      "execution_count": 56,
      "outputs": [
        {
          "output_type": "stream",
          "text": [
            "<class 'pandas.core.frame.DataFrame'>\n",
            "RangeIndex: 3938 entries, 0 to 3937\n",
            "Data columns (total 4 columns):\n",
            "id        3938 non-null int64\n",
            "speech    3938 non-null object\n",
            "party     3938 non-null object\n",
            "state     3938 non-null object\n",
            "dtypes: int64(1), object(3)\n",
            "memory usage: 123.1+ KB\n"
          ],
          "name": "stdout"
        }
      ]
    },
    {
      "cell_type": "markdown",
      "metadata": {
        "id": "GRSLscpLMQL4",
        "colab_type": "text"
      },
      "source": [
        "Awesome! We have no missing data!"
      ]
    },
    {
      "cell_type": "code",
      "metadata": {
        "id": "DoWxc7CIMVS1",
        "colab_type": "code",
        "outputId": "06557eca-60d7-43cd-f7b7-5fab9975b64d",
        "colab": {
          "base_uri": "https://localhost:8080/",
          "height": 173
        }
      },
      "source": [
        "dataset[['party', 'state']].describe()"
      ],
      "execution_count": 57,
      "outputs": [
        {
          "output_type": "execute_result",
          "data": {
            "text/html": [
              "<div>\n",
              "<style scoped>\n",
              "    .dataframe tbody tr th:only-of-type {\n",
              "        vertical-align: middle;\n",
              "    }\n",
              "\n",
              "    .dataframe tbody tr th {\n",
              "        vertical-align: top;\n",
              "    }\n",
              "\n",
              "    .dataframe thead th {\n",
              "        text-align: right;\n",
              "    }\n",
              "</style>\n",
              "<table border=\"1\" class=\"dataframe\">\n",
              "  <thead>\n",
              "    <tr style=\"text-align: right;\">\n",
              "      <th></th>\n",
              "      <th>party</th>\n",
              "      <th>state</th>\n",
              "    </tr>\n",
              "  </thead>\n",
              "  <tbody>\n",
              "    <tr>\n",
              "      <th>count</th>\n",
              "      <td>3938</td>\n",
              "      <td>3938</td>\n",
              "    </tr>\n",
              "    <tr>\n",
              "      <th>unique</th>\n",
              "      <td>26</td>\n",
              "      <td>27</td>\n",
              "    </tr>\n",
              "    <tr>\n",
              "      <th>top</th>\n",
              "      <td>PT</td>\n",
              "      <td>SP</td>\n",
              "    </tr>\n",
              "    <tr>\n",
              "      <th>freq</th>\n",
              "      <td>654</td>\n",
              "      <td>551</td>\n",
              "    </tr>\n",
              "  </tbody>\n",
              "</table>\n",
              "</div>"
            ],
            "text/plain": [
              "       party state\n",
              "count   3938  3938\n",
              "unique    26    27\n",
              "top       PT    SP\n",
              "freq     654   551"
            ]
          },
          "metadata": {
            "tags": []
          },
          "execution_count": 57
        }
      ]
    },
    {
      "cell_type": "markdown",
      "metadata": {
        "id": "l2OtwgakMoy2",
        "colab_type": "text"
      },
      "source": [
        "Interesting... The people from PT party are the ones who gave more speeches this year so far. When analysing the state, deputies from SP."
      ]
    },
    {
      "cell_type": "markdown",
      "metadata": {
        "id": "5WQvhFepLVJp",
        "colab_type": "text"
      },
      "source": [
        "### Processing\n",
        "\n",
        "By quickly observing the speeches, it's visible that they some of them begin in that way:\n",
        "\n",
        "```\n",
        "O SR. ABOU ANNI (PSL - SP. Sem revisão do orador.) - \n",
        "```\n",
        "or,\n",
        "\n",
        "```\n",
        "A SRA. NATÁLIA BONAVIDES (PT - RN. Pela ordem. Sem revisão da oradora.) - \n",
        "```\n",
        "\n",
        "Besides, there  are some speeches that starts with:\n",
        "\n",
        "```\n",
        "DISCURSO NA ÍNTEGRA ENCAMINHADO PELO SR. DEPUTADO BILAC PINTO.\\r\\n\\r\\n\n",
        "```\n",
        "\n",
        "In order to remove this repetitions, we may remove this introdutory text. We divide this process in two parts: one for each type of intro. Then, we mix the data again.\n",
        "\n",
        "\n",
        "We start by managing the first pattern."
      ]
    },
    {
      "cell_type": "code",
      "metadata": {
        "colab_type": "code",
        "id": "y9N_KDOtydsm",
        "colab": {}
      },
      "source": [
        "# Create a copy\n",
        "dataset1 = dataset.copy()"
      ],
      "execution_count": 0,
      "outputs": []
    },
    {
      "cell_type": "code",
      "metadata": {
        "id": "fnY6KdR1NkB8",
        "colab_type": "code",
        "colab": {}
      },
      "source": [
        "# We split the data using the signal \" - \" and retrieve the last string\n",
        "# obtained in that split\n",
        "dataset['speech'] = dataset.speech.str.split(\" - \", n=2, expand=True)[2]"
      ],
      "execution_count": 0,
      "outputs": []
    },
    {
      "cell_type": "code",
      "metadata": {
        "id": "UIn-gWRSz9mT",
        "colab_type": "code",
        "colab": {
          "base_uri": "https://localhost:8080/",
          "height": 54
        },
        "outputId": "01dbbbe9-48df-4941-a099-42b1cb1d64b1"
      },
      "source": [
        "dataset.loc[0].speech"
      ],
      "execution_count": 104,
      "outputs": [
        {
          "output_type": "execute_result",
          "data": {
            "text/plain": [
              "'Sr. Presidente, douta Mesa, senhoras e senhores, trago uma saudação de paz.\\r\\nEu sou oriundo da Bahia, o quarto Estado brasileiro em população e o sexto maior Estado, geograficamente falando, do nosso querido Brasil. Eu tenho o privilégio de proferir com muita segurança que nasci no Estado onde tudo começou, onde as caravelas ancoraram, onde Cabral bradou: \"Terra à vista!\" \\r\\nDos 417 Municípios do meu querido Estado da Bahia, 410 acreditaram em mim e me agraciaram com seus votos. Quando me enviaram para Brasília, Capital da nossa Nação, fizeram-no acreditando no que eu proferi durante a campanha: eu serei radicalmente contra todos os que se levantarem contra a ética e a família tradicional. Levantar-me-ei contra quem é a favor da chamada ideologia de gênero, que, pela minha ótica, até que me provem o contrário, tem sido uma catástrofe para nossa querida Nação.\\r\\nAgradeço ao Deus dos céus por ter me agraciado ao me enviar como um dos representantes da minha querida Bahia e muito especialmente como um dos representantes do povo evangélico, até porque eu profiro a fé num único Deus.'"
            ]
          },
          "metadata": {
            "tags": []
          },
          "execution_count": 104
        }
      ]
    },
    {
      "cell_type": "code",
      "metadata": {
        "id": "T3GASKzTN_nU",
        "colab_type": "code",
        "outputId": "1b531694-00db-4466-cee3-565b0e7e8d24",
        "colab": {
          "base_uri": "https://localhost:8080/",
          "height": 204
        }
      },
      "source": [
        "dataset.head()"
      ],
      "execution_count": 92,
      "outputs": [
        {
          "output_type": "execute_result",
          "data": {
            "text/html": [
              "<div>\n",
              "<style scoped>\n",
              "    .dataframe tbody tr th:only-of-type {\n",
              "        vertical-align: middle;\n",
              "    }\n",
              "\n",
              "    .dataframe tbody tr th {\n",
              "        vertical-align: top;\n",
              "    }\n",
              "\n",
              "    .dataframe thead th {\n",
              "        text-align: right;\n",
              "    }\n",
              "</style>\n",
              "<table border=\"1\" class=\"dataframe\">\n",
              "  <thead>\n",
              "    <tr style=\"text-align: right;\">\n",
              "      <th></th>\n",
              "      <th>id</th>\n",
              "      <th>speech</th>\n",
              "      <th>party</th>\n",
              "      <th>state</th>\n",
              "    </tr>\n",
              "  </thead>\n",
              "  <tbody>\n",
              "    <tr>\n",
              "      <th>0</th>\n",
              "      <td>204554</td>\n",
              "      <td>Sr. Presidente, douta Mesa, senhoras e senhore...</td>\n",
              "      <td>PL</td>\n",
              "      <td>BA</td>\n",
              "    </tr>\n",
              "    <tr>\n",
              "      <th>1</th>\n",
              "      <td>204554</td>\n",
              "      <td>Sr. Presidente, douta Mesa, senhoras e senhore...</td>\n",
              "      <td>PL</td>\n",
              "      <td>BA</td>\n",
              "    </tr>\n",
              "    <tr>\n",
              "      <th>2</th>\n",
              "      <td>204521</td>\n",
              "      <td>Obrigado, Sr. Presidente.\\r\\nNesta oportunidad...</td>\n",
              "      <td>PSL</td>\n",
              "      <td>SP</td>\n",
              "    </tr>\n",
              "    <tr>\n",
              "      <th>3</th>\n",
              "      <td>204521</td>\n",
              "      <td>Obrigado, Sr. Presidente.\\r\\nQuero cumprimenta...</td>\n",
              "      <td>PSL</td>\n",
              "      <td>SP</td>\n",
              "    </tr>\n",
              "    <tr>\n",
              "      <th>4</th>\n",
              "      <td>204560</td>\n",
              "      <td>Sra. Presidente, Sras. e Srs. Deputados, peço ...</td>\n",
              "      <td>PSDB</td>\n",
              "      <td>BA</td>\n",
              "    </tr>\n",
              "  </tbody>\n",
              "</table>\n",
              "</div>"
            ],
            "text/plain": [
              "       id                                             speech party state\n",
              "0  204554  Sr. Presidente, douta Mesa, senhoras e senhore...    PL    BA\n",
              "1  204554  Sr. Presidente, douta Mesa, senhoras e senhore...    PL    BA\n",
              "2  204521  Obrigado, Sr. Presidente.\\r\\nNesta oportunidad...   PSL    SP\n",
              "3  204521  Obrigado, Sr. Presidente.\\r\\nQuero cumprimenta...   PSL    SP\n",
              "4  204560  Sra. Presidente, Sras. e Srs. Deputados, peço ...  PSDB    BA"
            ]
          },
          "metadata": {
            "tags": []
          },
          "execution_count": 92
        }
      ]
    },
    {
      "cell_type": "markdown",
      "metadata": {
        "id": "eqcJqDgytdQe",
        "colab_type": "text"
      },
      "source": [
        "As expected, this approach does not work on the second pattern, giving us some empty speeches, as the one below"
      ]
    },
    {
      "cell_type": "code",
      "metadata": {
        "id": "y6KVXWhiCQhy",
        "colab_type": "code",
        "colab": {}
      },
      "source": [
        "dataset.loc[506].speech"
      ],
      "execution_count": 0,
      "outputs": []
    },
    {
      "cell_type": "code",
      "metadata": {
        "id": "bV2OE4SWyo4n",
        "colab_type": "code",
        "colab": {
          "base_uri": "https://localhost:8080/",
          "height": 34
        },
        "outputId": "3c217b14-9e2c-4469-e3ce-c85fe55f449f"
      },
      "source": [
        "null_speeches = dataset.loc[dataset.speech.isna()]\n",
        "\n",
        "print( \"There are %i null speeches\" % len(null_speeches))"
      ],
      "execution_count": 95,
      "outputs": [
        {
          "output_type": "stream",
          "text": [
            "There are 169 null speeches\n"
          ],
          "name": "stdout"
        }
      ]
    },
    {
      "cell_type": "markdown",
      "metadata": {
        "id": "F6knWgoOtqp5",
        "colab_type": "text"
      },
      "source": [
        "Thus, we remove this empty speeches and follow a second a approach on the copied dataset."
      ]
    },
    {
      "cell_type": "code",
      "metadata": {
        "id": "cJYsx1sqt3dF",
        "colab_type": "code",
        "colab": {}
      },
      "source": [
        "dataset.dropna(inplace=True)\n",
        "\n",
        "# Assert that the number of rows decreased\n",
        "assert(dataset.shape[0] < size)"
      ],
      "execution_count": 0,
      "outputs": []
    },
    {
      "cell_type": "markdown",
      "metadata": {
        "id": "DetwlM9pyQXq",
        "colab_type": "text"
      },
      "source": [
        "Now, it's time to process the 169 speeches that were not covered by the previous approach."
      ]
    },
    {
      "cell_type": "code",
      "metadata": {
        "id": "kTIXcqn-zBBZ",
        "colab_type": "code",
        "colab": {}
      },
      "source": [
        "dataset1 = dataset1.loc[null_speeches.index]\n",
        "\n",
        "assert(dataset1.shape[0] == 169)"
      ],
      "execution_count": 0,
      "outputs": []
    },
    {
      "cell_type": "code",
      "metadata": {
        "id": "YjCR_UlyzVKW",
        "colab_type": "code",
        "colab": {}
      },
      "source": [
        "# We split the data using the pattern \"\\r\\n\\r\\n\" and retrieve the last string\n",
        "# obtained in that split\n",
        "dataset1['speech'] = dataset1.speech.str.split(\"\\r\\n\\r\\n\", n=1, expand=True)[1]"
      ],
      "execution_count": 0,
      "outputs": []
    },
    {
      "cell_type": "markdown",
      "metadata": {
        "id": "xZuriAu1zvI6",
        "colab_type": "text"
      },
      "source": [
        "Just assuring that all speeches were retrieved and taking a look at the result."
      ]
    },
    {
      "cell_type": "code",
      "metadata": {
        "id": "A5v6qLbHzlu-",
        "colab_type": "code",
        "colab": {
          "base_uri": "https://localhost:8080/",
          "height": 204
        },
        "outputId": "14807a3c-750e-4ad5-c298-644b80c6b01a"
      },
      "source": [
        "assert(dataset.speech.isna().sum() == 0)\n",
        "\n",
        "dataset1.head()"
      ],
      "execution_count": 106,
      "outputs": [
        {
          "output_type": "execute_result",
          "data": {
            "text/html": [
              "<div>\n",
              "<style scoped>\n",
              "    .dataframe tbody tr th:only-of-type {\n",
              "        vertical-align: middle;\n",
              "    }\n",
              "\n",
              "    .dataframe tbody tr th {\n",
              "        vertical-align: top;\n",
              "    }\n",
              "\n",
              "    .dataframe thead th {\n",
              "        text-align: right;\n",
              "    }\n",
              "</style>\n",
              "<table border=\"1\" class=\"dataframe\">\n",
              "  <thead>\n",
              "    <tr style=\"text-align: right;\">\n",
              "      <th></th>\n",
              "      <th>id</th>\n",
              "      <th>speech</th>\n",
              "      <th>party</th>\n",
              "      <th>state</th>\n",
              "    </tr>\n",
              "  </thead>\n",
              "  <tbody>\n",
              "    <tr>\n",
              "      <th>192</th>\n",
              "      <td>74057</td>\n",
              "      <td>Sr. Presidente, Sras. e Srs. Deputados, na noi...</td>\n",
              "      <td>PCdoB</td>\n",
              "      <td>BA</td>\n",
              "    </tr>\n",
              "    <tr>\n",
              "      <th>254</th>\n",
              "      <td>204423</td>\n",
              "      <td>Sr. Presidente, Sras. Deputadas e Srs. Deputad...</td>\n",
              "      <td>PSC</td>\n",
              "      <td>PE</td>\n",
              "    </tr>\n",
              "    <tr>\n",
              "      <th>255</th>\n",
              "      <td>204423</td>\n",
              "      <td>Sr. Presidente, Sras. e Srs. Deputados, é com ...</td>\n",
              "      <td>PSC</td>\n",
              "      <td>PE</td>\n",
              "    </tr>\n",
              "    <tr>\n",
              "      <th>292</th>\n",
              "      <td>160553</td>\n",
              "      <td>Sr. Presidente, Sras. e Srs. Deputados, gostar...</td>\n",
              "      <td>PSD</td>\n",
              "      <td>BA</td>\n",
              "    </tr>\n",
              "    <tr>\n",
              "      <th>506</th>\n",
              "      <td>141513</td>\n",
              "      <td>Sr. Presidente, Sras. e Srs. Deputados, aprove...</td>\n",
              "      <td>DEM</td>\n",
              "      <td>MG</td>\n",
              "    </tr>\n",
              "  </tbody>\n",
              "</table>\n",
              "</div>"
            ],
            "text/plain": [
              "         id                                             speech  party state\n",
              "192   74057  Sr. Presidente, Sras. e Srs. Deputados, na noi...  PCdoB    BA\n",
              "254  204423  Sr. Presidente, Sras. Deputadas e Srs. Deputad...    PSC    PE\n",
              "255  204423  Sr. Presidente, Sras. e Srs. Deputados, é com ...    PSC    PE\n",
              "292  160553  Sr. Presidente, Sras. e Srs. Deputados, gostar...    PSD    BA\n",
              "506  141513  Sr. Presidente, Sras. e Srs. Deputados, aprove...    DEM    MG"
            ]
          },
          "metadata": {
            "tags": []
          },
          "execution_count": 106
        }
      ]
    },
    {
      "cell_type": "markdown",
      "metadata": {
        "id": "GJTvTzOE0VA8",
        "colab_type": "text"
      },
      "source": [
        "After this, we can merge the data together again."
      ]
    },
    {
      "cell_type": "code",
      "metadata": {
        "id": "fgFIiXEi0Za7",
        "colab_type": "code",
        "colab": {}
      },
      "source": [
        "dataset = dataset.append(dataset1)\n",
        "\n",
        "# Assure that all the rows are there\n",
        "assert(dataset.shape[0] == size)"
      ],
      "execution_count": 0,
      "outputs": []
    },
    {
      "cell_type": "markdown",
      "metadata": {
        "id": "1uUh5tOeOcVT",
        "colab_type": "text"
      },
      "source": [
        "Finally, we can save the dataset."
      ]
    },
    {
      "cell_type": "code",
      "metadata": {
        "id": "eVEJCny-Obu0",
        "colab_type": "code",
        "colab": {}
      },
      "source": [
        "dataset.to_csv('speeches.csv')"
      ],
      "execution_count": 0,
      "outputs": []
    }
  ]
}